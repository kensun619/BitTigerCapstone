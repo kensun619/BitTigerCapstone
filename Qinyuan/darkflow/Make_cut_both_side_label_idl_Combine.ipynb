{
 "cells": [
  {
   "cell_type": "code",
   "execution_count": 16,
   "metadata": {},
   "outputs": [
    {
     "name": "stdout",
     "output_type": "stream",
     "text": [
      "== done==\n"
     ]
    }
   ],
   "source": [
    "#First\n",
    "#formal  lable-newLeft.idl\n",
    "import json\n",
    "import re\n",
    "import numpy as np\n",
    "import cv2\n",
    "\n",
    "#json -> json.loads()  ->dict() -> json.dump() ->json\n",
    "\n",
    "newLeft = 160 #(160+)480 =640\n",
    "#choose the original label path\n",
    "with open(\"/home/liaw/Downloads/training/label.idl\") as f:\n",
    "    lines = f.readlines()\n",
    "\n",
    "output_dir = './sub_training/'\n",
    "txt_outpath = output_dir + \"label-newCrop.idl\"\n",
    "txt_outfile = open(txt_outpath, \"a\")\n",
    "    \n",
    "for each in lines:\n",
    "    line = json.loads(each) #turn each pic to dictionar\n",
    "    image_name = list(line.keys())[0]\n",
    "    labelnumber = len( list(line.values()) [0] )\n",
    "\n",
    "    if labelnumber == 0:\n",
    "                \n",
    "        newLine = {\"newLeft-\"+image_name: \"[]\"}\n",
    "        \n",
    "        #write back the dictionary from json\n",
    "        txt_outfile.write( json.dumps(newLine) + \"\\n\" )\n",
    "\n",
    "        continue;\n",
    "    else:\n",
    "        labels = list(line.values())[0]\n",
    "\n",
    "        newLabels = []\n",
    "        \n",
    "        #cut left\n",
    "        for label in labels: #label[0] = x1,label[2] = x2\n",
    "            \n",
    "            if newLeft <= label[0] :\n",
    "                #print(\"same\")\n",
    "                label[0] = label[0]-newLeft\n",
    "                label[2] = label[2]-newLeft\n",
    "                newLabels.append(label)\n",
    "                \n",
    "            elif label[0] < newLeft and newLeft <= label[2]:\n",
    "                label[0] = 0\n",
    "                label[2] = label[2] - newLeft\n",
    "                #print (\"cut\")\n",
    "                newLabels.append(label)\n",
    "            \n",
    "            elif label[2] < newLeft : #No show\n",
    "                #print(\"no show\")\n",
    "                continue\n",
    "    newLine = {\"newLeft-\"+image_name: newLabels}\n",
    "    \n",
    "    txt_outfile.write( json.dumps(newLine) + \"\\n\" )\n",
    "print(\"== done==\")"
   ]
  },
  {
   "cell_type": "code",
   "execution_count": 17,
   "metadata": {},
   "outputs": [
    {
     "name": "stdout",
     "output_type": "stream",
     "text": [
      "== done==\n"
     ]
    }
   ],
   "source": [
    "#Second\n",
    "#formal  lable-newRight.idl\n",
    "import json\n",
    "import re\n",
    "import numpy as np\n",
    "import cv2\n",
    "\n",
    "#json -> json.loads()  ->dict() -> json.dump() ->json\n",
    "\n",
    "newRight = 480 #480(+160) =640 \n",
    "\n",
    "with open(\"/home/liaw/Downloads/training/label.idl\") as f:\n",
    "    lines = f.readlines()\n",
    "\n",
    "output_dir = './sub_training/'\n",
    "txt_outpath = output_dir + \"label-newCrop.idl\"\n",
    "txt_outfile = open(txt_outpath, \"a\")\n",
    "    \n",
    "for each in lines:\n",
    "    line = json.loads(each) #turn each pic to dictionar\n",
    "    image_name = list(line.keys())[0]\n",
    "    labelnumber = len( list(line.values()) [0] )\n",
    "\n",
    "    if labelnumber == 0:\n",
    "        #write back the dictionary from json\n",
    "                \n",
    "        newLine = {\"newRight-\"+image_name: \"[]\"}\n",
    "        \n",
    "        txt_outfile.write( json.dumps(newLine) + \"\\n\" )\n",
    "\n",
    "        continue;\n",
    "    else:\n",
    "        labels = list(line.values())[0]\n",
    "\n",
    "        newLabels = []\n",
    "        \n",
    "        for label in labels: #label[0] = x1,label[2] = x2\n",
    "            \n",
    "            if label[2] <= newRight:\n",
    "                #print(\"same\")\n",
    "                newLabels.append(label)\n",
    "                \n",
    "            elif label[0] < newRight and newRight <= label[2]:\n",
    "                label[2] = newRight\n",
    "                #print (\"cut\")\n",
    "                newLabels.append(label)\n",
    "            \n",
    "            elif newRight < label[0]: #No show\n",
    "                #print(\"no show\")\n",
    "                continue\n",
    "    newLine = {\"newRight-\" + image_name: newLabels}\n",
    "    \n",
    "    txt_outfile.write( json.dumps(newLine) + \"\\n\" )\n",
    "print(\"== done==\")"
   ]
  },
  {
   "cell_type": "code",
   "execution_count": null,
   "metadata": {},
   "outputs": [],
   "source": []
  }
 ],
 "metadata": {
  "kernelspec": {
   "display_name": "Python 3",
   "language": "python",
   "name": "python3"
  },
  "language_info": {
   "codemirror_mode": {
    "name": "ipython",
    "version": 3
   },
   "file_extension": ".py",
   "mimetype": "text/x-python",
   "name": "python",
   "nbconvert_exporter": "python",
   "pygments_lexer": "ipython3",
   "version": "3.6.4"
  }
 },
 "nbformat": 4,
 "nbformat_minor": 2
}
