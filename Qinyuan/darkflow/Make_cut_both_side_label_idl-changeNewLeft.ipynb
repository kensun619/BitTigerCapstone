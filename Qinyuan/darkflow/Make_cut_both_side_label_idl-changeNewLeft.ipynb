{
 "cells": [
  {
   "cell_type": "code",
   "execution_count": 1,
   "metadata": {},
   "outputs": [
    {
     "name": "stdout",
     "output_type": "stream",
     "text": [
      "== done==\n"
     ]
    }
   ],
   "source": [
    "#formal  lable-newRight.idl\n",
    "import json\n",
    "import re\n",
    "import numpy as np\n",
    "import cv2\n",
    "\n",
    "#json -> json.loads()  ->dict() -> json.dump() ->json\n",
    "\n",
    "newRight = 480 #480(+160) =640 \n",
    "\n",
    "with open(\"/home/gene/Downloads/training/label.idl\") as f:\n",
    "    lines = f.readlines()\n",
    "\n",
    "output_dir = './sub_training/'\n",
    "txt_outpath = output_dir + \"label-newRight.idl\"\n",
    "txt_outfile = open(txt_outpath, \"a\")\n",
    "    \n",
    "for each in lines:\n",
    "    line = json.loads(each) #turn each pic to dictionar\n",
    "    image_name = list(line.keys())[0]\n",
    "    labelnumber = len( list(line.values()) [0] )\n",
    "\n",
    "    if labelnumber == 0:\n",
    "        #write back the dictionary from json\n",
    "        txt_outfile.write( json.dumps(line) + \"\\n\" )\n",
    "\n",
    "        continue;\n",
    "    else:\n",
    "        labels = list(line.values())[0]\n",
    "\n",
    "        newLabels = []\n",
    "        \n",
    "        for label in labels: #label[0] = x1,label[2] = x2\n",
    "            \n",
    "            if label[2] <= newRight:\n",
    "                #print(\"same\")\n",
    "                newLabels.append(label)\n",
    "                \n",
    "            elif label[0] < newRight and newRight <= label[2]:\n",
    "                label[2] = newRight\n",
    "                #print (\"cut\")\n",
    "                newLabels.append(label)\n",
    "            \n",
    "            elif newRight < label[0]: #No show\n",
    "                #print(\"no show\")\n",
    "                continue\n",
    "    newLine = {image_name: newLabels}\n",
    "    \n",
    "    txt_outfile.write( json.dumps(newLine) + \"\\n\" )\n",
    "print(\"== done==\")"
   ]
  },
  {
   "cell_type": "code",
   "execution_count": 1,
   "metadata": {},
   "outputs": [
    {
     "ename": "FileNotFoundError",
     "evalue": "[Errno 2] No such file or directory: '/home/gene/Downloads/training/label.idl'",
     "output_type": "error",
     "traceback": [
      "\u001b[0;31m---------------------------------------------------------------------------\u001b[0m",
      "\u001b[0;31mFileNotFoundError\u001b[0m                         Traceback (most recent call last)",
      "\u001b[0;32m<ipython-input-1-5e184019d4bf>\u001b[0m in \u001b[0;36m<module>\u001b[0;34m()\u001b[0m\n\u001b[1;32m      9\u001b[0m \u001b[0mnewLeft\u001b[0m \u001b[0;34m=\u001b[0m \u001b[0;36m160\u001b[0m \u001b[0;31m#(160+)480 =640\u001b[0m\u001b[0;34m\u001b[0m\u001b[0m\n\u001b[1;32m     10\u001b[0m \u001b[0;31m#choose the original label path\u001b[0m\u001b[0;34m\u001b[0m\u001b[0;34m\u001b[0m\u001b[0m\n\u001b[0;32m---> 11\u001b[0;31m \u001b[0;32mwith\u001b[0m \u001b[0mopen\u001b[0m\u001b[0;34m(\u001b[0m\u001b[0;34m\"/home/gene/Downloads/training/label.idl\"\u001b[0m\u001b[0;34m)\u001b[0m \u001b[0;32mas\u001b[0m \u001b[0mf\u001b[0m\u001b[0;34m:\u001b[0m\u001b[0;34m\u001b[0m\u001b[0m\n\u001b[0m\u001b[1;32m     12\u001b[0m     \u001b[0mlines\u001b[0m \u001b[0;34m=\u001b[0m \u001b[0mf\u001b[0m\u001b[0;34m.\u001b[0m\u001b[0mreadlines\u001b[0m\u001b[0;34m(\u001b[0m\u001b[0;34m)\u001b[0m\u001b[0;34m\u001b[0m\u001b[0m\n\u001b[1;32m     13\u001b[0m \u001b[0;34m\u001b[0m\u001b[0m\n",
      "\u001b[0;31mFileNotFoundError\u001b[0m: [Errno 2] No such file or directory: '/home/gene/Downloads/training/label.idl'"
     ]
    }
   ],
   "source": [
    "#formal  lable-newRight.idl\n",
    "import json\n",
    "import re\n",
    "import numpy as np\n",
    "import cv2\n",
    "\n",
    "#json -> json.loads()  ->dict() -> json.dump() ->json\n",
    "\n",
    "newLeft = 160 #(160+)480 =640\n",
    "#choose the original label path\n",
    "with open(\"/home/gene/Downloads/training/label.idl\") as f:\n",
    "    lines = f.readlines()\n",
    "\n",
    "output_dir = './sub_training/'\n",
    "txt_outpath = output_dir + \"label-newLeft.idl\"\n",
    "txt_outfile = open(txt_outpath, \"a\")\n",
    "    \n",
    "for each in lines:\n",
    "    line = json.loads(each) #turn each pic to dictionar\n",
    "    image_name = list(line.keys())[0]\n",
    "    labelnumber = len( list(line.values()) [0] )\n",
    "\n",
    "    if labelnumber == 0:\n",
    "        #write back the dictionary from json\n",
    "        txt_outfile.write( json.dumps(line) + \"\\n\" )\n",
    "\n",
    "        continue;\n",
    "    else:\n",
    "        labels = list(line.values())[0]\n",
    "\n",
    "        newLabels = []\n",
    "        \n",
    "        #cut left\n",
    "        for label in labels: #label[0] = x1,label[2] = x2\n",
    "            \n",
    "            if newLeft <= label[0] :\n",
    "                #print(\"same\")\n",
    "                label[0] = label[0]-newLeft\n",
    "                label[2] = label[2]-newLeft\n",
    "                newLabels.append(label)\n",
    "                \n",
    "            elif label[0] < newLeft and newLeft <= label[2]:\n",
    "                label[0] = 0\n",
    "                label[2] = label[2] - newLeft\n",
    "                #print (\"cut\")\n",
    "                newLabels.append(label)\n",
    "            \n",
    "            elif label[2] < newLeft : #No show\n",
    "                #print(\"no show\")\n",
    "                continue\n",
    "    newLine = {image_name: newLabels}\n",
    "    \n",
    "    txt_outfile.write( json.dumps(newLine) + \"\\n\" )\n",
    "print(\"== done==\")"
   ]
  },
  {
   "cell_type": "code",
   "execution_count": null,
   "metadata": {},
   "outputs": [],
   "source": []
  }
 ],
 "metadata": {
  "kernelspec": {
   "display_name": "Python 3",
   "language": "python",
   "name": "python3"
  },
  "language_info": {
   "codemirror_mode": {
    "name": "ipython",
    "version": 3
   },
   "file_extension": ".py",
   "mimetype": "text/x-python",
   "name": "python",
   "nbconvert_exporter": "python",
   "pygments_lexer": "ipython3",
   "version": "3.6.4"
  }
 },
 "nbformat": 4,
 "nbformat_minor": 2
}
