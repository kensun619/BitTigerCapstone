{
 "cells": [
  {
   "cell_type": "code",
   "execution_count": 16,
   "metadata": {},
   "outputs": [
    {
     "name": "stdout",
     "output_type": "stream",
     "text": [
      "[====================>]100%  sample_scream.json"
     ]
    }
   ],
   "source": [
    "# The boxes output by the algorithm is based on 416x416 need to rescale back to 640x360\n",
    "import os\n",
    "import sys\n",
    "import glob\n",
    "import json\n",
    "import cv2\n",
    "#output_path = '.'\n",
    "#pred_path = '.'\n",
    "pred_path = './sample_img/out/'\n",
    "output_path = './predict_sample/'\n",
    "ground_truth_file = './comb-label'\n",
    "\"\"\"\n",
    "with open(ground_truth_file) as f:\n",
    "    lines = f.readlines()\n",
    "grnd_truth = dict()\n",
    "if img_plot_flag:\n",
    "    for each in lines:    \n",
    "        line = json.loads(each)  \n",
    "        image_name = list(line.keys())[0]\n",
    "        for box in list(line.values())[0]:           \n",
    "                xmin = box[0]\n",
    "                ymin = box[1]\n",
    "                xmax = box[2]\n",
    "                ymax = box[3]\n",
    "                label = box[4]\n",
    "\"\"\"\n",
    "    \n",
    "# output_path = './predict_416/'\n",
    "    output_name = 'predict.idl'\n",
    "output_file = os.path.join(output_path,output_name)\n",
    "out_f = open(output_file, 'w')\n",
    "img_input_path = './sample_img/'\n",
    "annotations = os.listdir(pred_path)\n",
    "# annotations = glob.glob('./training_aug/out/*.json')\n",
    "# annotations = ['newRight-67564.json']\n",
    "size = len(annotations)\n",
    "\n",
    "network_img_sz = 416\n",
    "img_width = 640\n",
    "img_height = 360\n",
    " \n",
    "img_plot_flag = 1 # draw boxes on img if value is 1\n",
    "\n",
    "\n",
    "for i,file in enumerate(annotations):\n",
    "    sys.stdout.write('\\r')\n",
    "    percentage = 1. * (i+1) / size\n",
    "    progress = int(percentage * 20)\n",
    "    bar_arg = [progress*'=', ' '*(19-progress), percentage*100]\n",
    "    bar_arg += [file]\n",
    "    sys.stdout.write('[{}>{}]{:.0f}%  {}'.format(*bar_arg))\n",
    "    sys.stdout.flush()\n",
    "    \n",
    "    head, tail = os.path.split(file)\n",
    "    img_name = os.path.splitext(os.path.basename(file))[0] + '.jpg'\n",
    "    if img_plot_flag:\n",
    "        img_file = os.path.join(img_input_path,img_name)\n",
    "        \n",
    "        new_img_file = os.path.join(output_path,img_name) \n",
    "        im = cv2.imread(img_file)\n",
    "        im = cv2.resize(im,(network_img_sz,network_img_sz))\n",
    "    \n",
    "    # actual parsing\n",
    "    file_path = os.path.join(pred_path,file)\n",
    "    # file_path = file\n",
    "    in_file = open(file_path)\n",
    "    all_obj = json.load(in_file)\n",
    "    prediction = list()\n",
    "    for obj in all_obj:\n",
    "        label = obj['label']\n",
    "        confidence = obj['confidence']\n",
    "        xmax = obj['bottomright']['x']   # these values are already integers\n",
    "        ymax = obj['bottomright']['y']\n",
    "        xmin = obj['topleft']['x']\n",
    "        ymin = obj['topleft']['y']\n",
    "        \n",
    "        # We need to resize boxes to original scale\n",
    "        xmax_orig = int(xmax/network_img_sz*img_width)\n",
    "        ymax_orig = int(ymax/network_img_sz*img_height)\n",
    "        xmin_orig = int(xmin/network_img_sz*img_width)\n",
    "        ymin_orig = int(ymin/network_img_sz*img_height)\n",
    "        newLabels = [xmin_orig, ymin_orig, xmax_orig, ymax_orig, label, confidence]\n",
    "        prediction.append(newLabels)\n",
    "        if img_plot_flag:\n",
    "            cv2.rectangle(im,(xmin,ymin),(xmax,ymax),(255,0,0),2) \n",
    "            # cv2.rectangle(im,(xmin_orig,ymin_orig),(xmax_orig,ymax_orig),(255,0,0),2) \n",
    "            # cv2.putText(im, str(label), (xmin_orig,ymin_orig-10), cv2.FONT_HERSHEY_DUPLEX, 0.4, (255,0,0), 1)    \n",
    "    newLine = {img_name: prediction}    \n",
    "    out_f.write( json.dumps(newLine) + \"\\n\" )\n",
    "    \n",
    "    if img_plot_flag:\n",
    "        cv2.imwrite(new_img_file, im)\n",
    "        "
   ]
  },
  {
   "cell_type": "code",
   "execution_count": null,
   "metadata": {},
   "outputs": [],
   "source": [
    "#double check labeling result\n",
    "import cv2\n",
    "import os\n",
    "import sys\n",
    "image_path = './training_aug/'\n",
    "label_file = './comb-label.idl'\n",
    "output_path = './training_aug_verification/'\n",
    "with open(label_file) as f:\n",
    "    lines = f.readlines() \n",
    "    \n",
    "for i, each in enumerate(lines):\n",
    "    sys.stdout.write('\\r')\n",
    "    percentage = 1. * (i+1) / size\n",
    "    progress = int(percentage * 20)\n",
    "    bar_arg = [progress*'=', ' '*(19-progress), percentage*100]\n",
    "    bar_arg += [each]\n",
    "    sys.stdout.write('[{}>{}]{:.0f}%  {}'.format(*bar_arg))\n",
    "    sys.stdout.flush()\n",
    "    \n",
    "    \n",
    "    line = json.loads(each) \n",
    "    image_name = list(line.keys())[0]\n",
    "    image_file = os.path.join(image_path,image_name)\n",
    "    new_image_file = os.path.join(output_path,image_name)\n",
    "    im = cv2.imread(image_file)\n",
    "    if list(line.values())[0]: #If there is label in annotation\n",
    "        for box in list(line.values())[0]:        \n",
    "            xmin = box[0]\n",
    "            ymin = box[1]\n",
    "            xmax = box[2]\n",
    "            ymax = box[3]\n",
    "            label = box[4]\n",
    "            cv2.rectangle(im,(int(xmin),int(ymin)),(int(xmax),int(ymax)),(255,0,0),2) \n",
    "    cv2.imwrite(new_image_file, im)        "
   ]
  },
  {
   "cell_type": "code",
   "execution_count": null,
   "metadata": {},
   "outputs": [],
   "source": []
  },
  {
   "cell_type": "code",
   "execution_count": null,
   "metadata": {},
   "outputs": [],
   "source": []
  },
  {
   "cell_type": "code",
   "execution_count": null,
   "metadata": {},
   "outputs": [],
   "source": []
  },
  {
   "cell_type": "code",
   "execution_count": 4,
   "metadata": {},
   "outputs": [
    {
     "data": {
      "text/plain": [
       "[]"
      ]
     },
     "execution_count": 4,
     "metadata": {},
     "output_type": "execute_result"
    }
   ],
   "source": [
    "annotations"
   ]
  },
  {
   "cell_type": "code",
   "execution_count": null,
   "metadata": {},
   "outputs": [],
   "source": []
  },
  {
   "cell_type": "code",
   "execution_count": null,
   "metadata": {},
   "outputs": [],
   "source": []
  },
  {
   "cell_type": "code",
   "execution_count": null,
   "metadata": {},
   "outputs": [],
   "source": []
  },
  {
   "cell_type": "code",
   "execution_count": 12,
   "metadata": {},
   "outputs": [],
   "source": [
    "annotations = os.listdir(pred_path)"
   ]
  },
  {
   "cell_type": "code",
   "execution_count": 13,
   "metadata": {},
   "outputs": [
    {
     "data": {
      "text/plain": [
       "['60091.json',\n",
       " '60092.json',\n",
       " '60093.json',\n",
       " '60094.json',\n",
       " '60095.json',\n",
       " '70091.json',\n",
       " '70092.json',\n",
       " '70093.json',\n",
       " '70094.json',\n",
       " '70095.json',\n",
       " 'sample_computer.json',\n",
       " 'sample_dog.json',\n",
       " 'sample_eagle.json',\n",
       " 'sample_giraffe.json',\n",
       " 'sample_horses.json',\n",
       " 'sample_office.json',\n",
       " 'sample_person.json',\n",
       " 'sample_scream.json']"
      ]
     },
     "execution_count": 13,
     "metadata": {},
     "output_type": "execute_result"
    }
   ],
   "source": [
    "annotations"
   ]
  },
  {
   "cell_type": "code",
   "execution_count": null,
   "metadata": {},
   "outputs": [],
   "source": [
    "annotations = os.listdir(pred_path)"
   ]
  },
  {
   "cell_type": "code",
   "execution_count": null,
   "metadata": {},
   "outputs": [],
   "source": [
    "for each in annotations:\n",
    "    head, tail = os.path.split(each)\n",
    "    print(head, tail)"
   ]
  },
  {
   "cell_type": "code",
   "execution_count": null,
   "metadata": {},
   "outputs": [],
   "source": [
    "print(tmp)"
   ]
  },
  {
   "cell_type": "code",
   "execution_count": 11,
   "metadata": {},
   "outputs": [],
   "source": [
    "annotations = os.listdir(pred_path)"
   ]
  },
  {
   "cell_type": "code",
   "execution_count": 14,
   "metadata": {},
   "outputs": [],
   "source": [
    "annotations = glob.glob('./training_aug/out/*.json')"
   ]
  },
  {
   "cell_type": "code",
   "execution_count": 15,
   "metadata": {},
   "outputs": [
    {
     "data": {
      "text/plain": [
       "[]"
      ]
     },
     "execution_count": 15,
     "metadata": {},
     "output_type": "execute_result"
    }
   ],
   "source": [
    "annotations"
   ]
  },
  {
   "cell_type": "code",
   "execution_count": null,
   "metadata": {},
   "outputs": [],
   "source": []
  }
 ],
 "metadata": {
  "kernelspec": {
   "display_name": "Python 3",
   "language": "python",
   "name": "python3"
  },
  "language_info": {
   "codemirror_mode": {
    "name": "ipython",
    "version": 3
   },
   "file_extension": ".py",
   "mimetype": "text/x-python",
   "name": "python",
   "nbconvert_exporter": "python",
   "pygments_lexer": "ipython3",
   "version": "3.5.3"
  }
 },
 "nbformat": 4,
 "nbformat_minor": 2
}
