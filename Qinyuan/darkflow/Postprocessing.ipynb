{
 "cells": [
  {
   "cell_type": "code",
   "execution_count": 1,
   "metadata": {},
   "outputs": [
    {
     "name": "stdout",
     "output_type": "stream",
     "text": [
      "[================>   ]83%  ./training_aug/out/newRight-65809.json"
     ]
    },
    {
     "ename": "KeyboardInterrupt",
     "evalue": "",
     "output_type": "error",
     "traceback": [
      "\u001b[0;31m---------------------------------------------------------------------------\u001b[0m",
      "\u001b[0;31mKeyboardInterrupt\u001b[0m                         Traceback (most recent call last)",
      "\u001b[0;32m<ipython-input-1-5e1f4a4fb45d>\u001b[0m in \u001b[0;36m<module>\u001b[0;34m()\u001b[0m\n\u001b[1;32m     90\u001b[0m \u001b[0;34m\u001b[0m\u001b[0m\n\u001b[1;32m     91\u001b[0m     \u001b[0;32mif\u001b[0m \u001b[0mimg_plot_flag\u001b[0m\u001b[0;34m:\u001b[0m\u001b[0;34m\u001b[0m\u001b[0m\n\u001b[0;32m---> 92\u001b[0;31m         \u001b[0mcv2\u001b[0m\u001b[0;34m.\u001b[0m\u001b[0mimwrite\u001b[0m\u001b[0;34m(\u001b[0m\u001b[0mnew_img_file\u001b[0m\u001b[0;34m,\u001b[0m \u001b[0mim\u001b[0m\u001b[0;34m)\u001b[0m\u001b[0;34m\u001b[0m\u001b[0m\n\u001b[0m\u001b[1;32m     93\u001b[0m \u001b[0;34m\u001b[0m\u001b[0m\n",
      "\u001b[0;31mKeyboardInterrupt\u001b[0m: "
     ]
    }
   ],
   "source": [
    "# The boxes output by the algorithm is based on 416x416 need to rescale back to 640x360\n",
    "import os\n",
    "import sys\n",
    "import glob\n",
    "import json\n",
    "import cv2\n",
    "#output_path = '.'\n",
    "#pred_path = '.'\n",
    "pred_path = './training_aug/out/'\n",
    "output_path = './predict_training/'\n",
    "ground_truth_file = './comb-label'\n",
    "\"\"\"\n",
    "with open(ground_truth_file) as f:\n",
    "    lines = f.readlines()\n",
    "grnd_truth = dict()\n",
    "if img_plot_flag:\n",
    "    for each in lines:    \n",
    "        line = json.loads(each)  \n",
    "        image_name = list(line.keys())[0]\n",
    "        for box in list(line.values())[0]:           \n",
    "                xmin = box[0]\n",
    "                ymin = box[1]\n",
    "                xmax = box[2]\n",
    "                ymax = box[3]\n",
    "                label = box[4]\n",
    "\"\"\"\n",
    "    \n",
    "# output_path = './predict_416/'\n",
    "output_name = 'predict.idl'\n",
    "output_file = os.path.join(output_path,output_name)\n",
    "out_f = open(output_file, 'w')\n",
    "img_input_path = './training_aug/'\n",
    "annotations = os.listdir(pred_path)\n",
    "annotations = glob.glob('./training_aug/out/*.json')\n",
    "# annotations = ['newRight-67564.json']\n",
    "size = len(annotations)\n",
    "\n",
    "network_img_sz = 416\n",
    "img_width = 416\n",
    "img_height = 416\n",
    " \n",
    "img_plot_flag = 1 # draw boxes on img if value is 1\n",
    "\n",
    "\n",
    "for i,file in enumerate(annotations):\n",
    "    sys.stdout.write('\\r')\n",
    "    percentage = 1. * (i+1) / size\n",
    "    progress = int(percentage * 20)\n",
    "    bar_arg = [progress*'=', ' '*(19-progress), percentage*100]\n",
    "    bar_arg += [file]\n",
    "    sys.stdout.write('[{}>{}]{:.0f}%  {}'.format(*bar_arg))\n",
    "    sys.stdout.flush()\n",
    "    \n",
    "    head, tail = os.path.split(file)\n",
    "    img_name = os.path.splitext(os.path.basename(file))[0] + '.jpg'\n",
    "    if img_plot_flag:\n",
    "        img_file = os.path.join(img_input_path,img_name)\n",
    "        \n",
    "        new_img_file = os.path.join(output_path,img_name) \n",
    "        im = cv2.imread(img_file)\n",
    "        im = cv2.resize(im,(network_img_sz,network_img_sz))\n",
    "    \n",
    "    # actual parsing\n",
    "    #file_path = os.path.join(pred_path,file)\n",
    "    file_path = file\n",
    "    in_file = open(file_path)\n",
    "    all_obj = json.load(in_file)\n",
    "    prediction = list()\n",
    "    for obj in all_obj:\n",
    "        label = obj['label']\n",
    "        confidence = obj['confidence']\n",
    "        xmax = obj['bottomright']['x']   # these values are already integers\n",
    "        ymax = obj['bottomright']['y']\n",
    "        xmin = obj['topleft']['x']\n",
    "        ymin = obj['topleft']['y']\n",
    "        \n",
    "        # We need to resize boxes to original scale\n",
    "        xmax_orig = int(xmax/network_img_sz*img_width)\n",
    "        ymax_orig = int(ymax/network_img_sz*img_height)\n",
    "        xmin_orig = int(xmin/network_img_sz*img_width)\n",
    "        ymin_orig = int(ymin/network_img_sz*img_height)\n",
    "        newLabels = [xmin_orig, ymin_orig, xmax_orig, ymax_orig, label, confidence]\n",
    "        prediction.append(newLabels)\n",
    "        if img_plot_flag:\n",
    "            cv2.rectangle(im,(xmin,ymin),(xmax,ymax),(255,0,0),2) \n",
    "            # cv2.rectangle(im,(xmin_orig,ymin_orig),(xmax_orig,ymax_orig),(255,0,0),2) \n",
    "            # cv2.putText(im, str(label), (xmin_orig,ymin_orig-10), cv2.FONT_HERSHEY_DUPLEX, 0.4, (255,0,0), 1)    \n",
    "    newLine = {img_name: prediction}    \n",
    "    out_f.write( json.dumps(newLine) + \"\\n\" )\n",
    "    \n",
    "    if img_plot_flag:\n",
    "        cv2.imwrite(new_img_file, im)\n",
    "        "
   ]
  },
  {
   "cell_type": "code",
   "execution_count": null,
   "metadata": {},
   "outputs": [],
   "source": [
    "#double check labeling result\n",
    "import cv2\n",
    "import os\n",
    "import sys\n",
    "image_path = './training_aug/'\n",
    "label_file = './comb-label.idl'\n",
    "output_path = './training_aug_verification/'\n",
    "with open(label_file) as f:\n",
    "    lines = f.readlines() \n",
    "    \n",
    "for i, each in enumerate(lines):\n",
    "    sys.stdout.write('\\r')\n",
    "    percentage = 1. * (i+1) / size\n",
    "    progress = int(percentage * 20)\n",
    "    bar_arg = [progress*'=', ' '*(19-progress), percentage*100]\n",
    "    bar_arg += [each]\n",
    "    sys.stdout.write('[{}>{}]{:.0f}%  {}'.format(*bar_arg))\n",
    "    sys.stdout.flush()\n",
    "    \n",
    "    \n",
    "    line = json.loads(each) \n",
    "    image_name = list(line.keys())[0]\n",
    "    image_file = os.path.join(image_path,image_name)\n",
    "    new_image_file = os.path.join(output_path,image_name)\n",
    "    im = cv2.imread(image_file)\n",
    "    if list(line.values())[0]: #If there is label in annotation\n",
    "        for box in list(line.values())[0]:        \n",
    "            xmin = box[0]\n",
    "            ymin = box[1]\n",
    "            xmax = box[2]\n",
    "            ymax = box[3]\n",
    "            label = box[4]\n",
    "            cv2.rectangle(im,(int(xmin),int(ymin)),(int(xmax),int(ymax)),(255,0,0),2) \n",
    "    cv2.imwrite(new_image_file, im)        "
   ]
  },
  {
   "cell_type": "code",
   "execution_count": null,
   "metadata": {},
   "outputs": [],
   "source": []
  },
  {
   "cell_type": "code",
   "execution_count": null,
   "metadata": {},
   "outputs": [],
   "source": [
    "im.shape"
   ]
  },
  {
   "cell_type": "code",
   "execution_count": null,
   "metadata": {},
   "outputs": [],
   "source": [
    "img_file"
   ]
  },
  {
   "cell_type": "code",
   "execution_count": null,
   "metadata": {},
   "outputs": [],
   "source": [
    "tmp = cv2.imread(img_file)"
   ]
  },
  {
   "cell_type": "code",
   "execution_count": null,
   "metadata": {},
   "outputs": [],
   "source": [
    "tmp.shape"
   ]
  },
  {
   "cell_type": "code",
   "execution_count": null,
   "metadata": {},
   "outputs": [],
   "source": [
    "newLabels"
   ]
  },
  {
   "cell_type": "code",
   "execution_count": null,
   "metadata": {},
   "outputs": [],
   "source": [
    "annotations"
   ]
  },
  {
   "cell_type": "code",
   "execution_count": null,
   "metadata": {},
   "outputs": [],
   "source": [
    "annotations"
   ]
  },
  {
   "cell_type": "code",
   "execution_count": null,
   "metadata": {},
   "outputs": [],
   "source": [
    "size = len(annotations)"
   ]
  },
  {
   "cell_type": "code",
   "execution_count": null,
   "metadata": {},
   "outputs": [],
   "source": [
    "annotations = os.listdir(pred_path)"
   ]
  },
  {
   "cell_type": "code",
   "execution_count": null,
   "metadata": {},
   "outputs": [],
   "source": [
    "for each in annotations:\n",
    "    head, tail = os.path.split(each)\n",
    "    print(head, tail)"
   ]
  },
  {
   "cell_type": "code",
   "execution_count": null,
   "metadata": {},
   "outputs": [],
   "source": [
    "print(tmp)"
   ]
  },
  {
   "cell_type": "code",
   "execution_count": null,
   "metadata": {},
   "outputs": [],
   "source": [
    "print(annotations)"
   ]
  },
  {
   "cell_type": "code",
   "execution_count": null,
   "metadata": {},
   "outputs": [],
   "source": []
  }
 ],
 "metadata": {
  "kernelspec": {
   "display_name": "Python 3",
   "language": "python",
   "name": "python3"
  },
  "language_info": {
   "codemirror_mode": {
    "name": "ipython",
    "version": 3
   },
   "file_extension": ".py",
   "mimetype": "text/x-python",
   "name": "python",
   "nbconvert_exporter": "python",
   "pygments_lexer": "ipython3",
   "version": "3.5.3"
  }
 },
 "nbformat": 4,
 "nbformat_minor": 2
}
